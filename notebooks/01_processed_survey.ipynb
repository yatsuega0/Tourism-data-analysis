{
 "cells": [
  {
   "cell_type": "code",
   "execution_count": null,
   "id": "4bbfc846-63ad-4d0e-85c5-fdb866cf7126",
   "metadata": {},
   "outputs": [],
   "source": [
    "import numpy as np\n",
    "import pandas as pd"
   ]
  },
  {
   "cell_type": "code",
   "execution_count": null,
   "id": "8cce2c5a-8595-40e0-add7-86c32b2e035b",
   "metadata": {},
   "outputs": [],
   "source": [
    "import yaml\n",
    "with open('../setting/path.yaml', 'r') as file:\n",
    "    config = yaml.safe_load(file)\n",
    "\n",
    "# パスの設定\n",
    "survey_path_2024_q2 = config['survey_data_path_2024_q2']\n",
    "survey_path_2024_q3 = config['survey_data_path_2024_q3']\n",
    "column_list_path = config['column_mapping']\n",
    "# 出力\n",
    "survey_2024_Q2andQ3_processed = config['survey_data_2024_processed']"
   ]
  },
  {
   "cell_type": "markdown",
   "id": "2680a5b7-4e80-48fd-9ebf-533252e4bd66",
   "metadata": {},
   "source": [
    "## 個票データの読み込み"
   ]
  },
  {
   "cell_type": "code",
   "execution_count": null,
   "id": "4cbd2b96-0213-44b7-bf50-103fd001115a",
   "metadata": {},
   "outputs": [],
   "source": [
    "df_q2 = pd.read_csv(survey_path_2024_q2,\n",
    "                    usecols=list(range(88)))\n",
    "\n",
    "df_q3 = pd.read_csv(survey_path_2024_q3,\n",
    "                    usecols=list(range(88)))"
   ]
  },
  {
   "cell_type": "code",
   "execution_count": null,
   "id": "2d216bbd-d63d-4ed9-ac8d-76c85d683f6b",
   "metadata": {},
   "outputs": [],
   "source": [
    "df_q2.shape"
   ]
  },
  {
   "cell_type": "code",
   "execution_count": null,
   "id": "46b628f6-7cf9-4820-a55f-8feec3b0c728",
   "metadata": {},
   "outputs": [],
   "source": [
    "df_q3.shape"
   ]
  },
  {
   "cell_type": "code",
   "execution_count": null,
   "id": "9a60be56-b5e5-4bf4-8488-88efc2d38742",
   "metadata": {},
   "outputs": [],
   "source": [
    "df_q2.columns"
   ]
  },
  {
   "cell_type": "code",
   "execution_count": null,
   "id": "c6b26e8b-377d-4384-8833-4a402b114eb9",
   "metadata": {},
   "outputs": [],
   "source": [
    "assert df_q2.columns.equals(df_q3.columns), '2つの変数名が一致していません。'"
   ]
  },
  {
   "cell_type": "markdown",
   "id": "0e39bfa2-e4b5-4d8e-8d5f-03f858801a74",
   "metadata": {},
   "source": [
    "## カラム名の変更"
   ]
  },
  {
   "cell_type": "code",
   "execution_count": null,
   "id": "c7ba1153-1fa1-469b-a570-26b3b75e3e45",
   "metadata": {},
   "outputs": [],
   "source": [
    "column_list = pd.read_excel(column_list_path)\n",
    "column_list.shape"
   ]
  },
  {
   "cell_type": "code",
   "execution_count": null,
   "id": "871cfc44-27c1-487b-829e-81644accd997",
   "metadata": {},
   "outputs": [],
   "source": [
    "def rename_columns(df, column_list):\n",
    "    # カラム名の変更\n",
    "    column_mapping = dict(zip(column_list['変数名'], column_list['変数ラベル']))\n",
    "    # データフレームのカラム名を更新\n",
    "    df = df.rename(columns=column_mapping)\n",
    "    assert set(column_list['変数ラベル']) == set(df.columns), \"カラム名が正しく変更されていません\"\n",
    "    \n",
    "    return df"
   ]
  },
  {
   "cell_type": "code",
   "execution_count": null,
   "id": "7ed85f99-e9bb-47d6-ba9a-f8556fda39df",
   "metadata": {},
   "outputs": [],
   "source": [
    "df_q2 = rename_columns(df_q2, column_list)\n",
    "df_q3 = rename_columns(df_q3, column_list)"
   ]
  },
  {
   "cell_type": "code",
   "execution_count": null,
   "id": "3dcb33bd-1e41-47ee-8677-c6ece80a30ac",
   "metadata": {},
   "outputs": [],
   "source": [
    "df_q2.columns"
   ]
  },
  {
   "cell_type": "code",
   "execution_count": null,
   "id": "dd6d7fcf-186b-4a15-a286-3298e35b1205",
   "metadata": {},
   "outputs": [],
   "source": [
    "df_q2.isna().sum()"
   ]
  },
  {
   "cell_type": "code",
   "execution_count": null,
   "id": "a9fafc5d-e7fc-476e-862e-4dd1f2d8c811",
   "metadata": {},
   "outputs": [],
   "source": [
    "df_q3.isna().sum()"
   ]
  },
  {
   "cell_type": "markdown",
   "id": "cea84a00-bc3b-4e88-98ae-0343a47ee5b0",
   "metadata": {
    "execution": {
     "iopub.execute_input": "2025-03-04T11:37:13.090166Z",
     "iopub.status.busy": "2025-03-04T11:37:13.089686Z",
     "iopub.status.idle": "2025-03-04T11:37:13.098019Z",
     "shell.execute_reply": "2025-03-04T11:37:13.097121Z",
     "shell.execute_reply.started": "2025-03-04T11:37:13.090123Z"
    }
   },
   "source": [
    "## 調査港（17区分）のコード値の設定"
   ]
  },
  {
   "cell_type": "code",
   "execution_count": null,
   "id": "8e3cb082-53b3-4b74-be5e-f2f7a9be4e40",
   "metadata": {},
   "outputs": [],
   "source": [
    "def prot_mapping_data(df):\n",
    "    # 調査港の変換マッピング\n",
    "    port_mapping = {\n",
    "        'SPK': '新千歳空港',\n",
    "        'HKD': '函館空港',\n",
    "        'SDJ': '仙台空港',\n",
    "        'HND': '東京国際空港（羽田空港）',\n",
    "        'NRT': '成田国際空港',\n",
    "        'KMQ': '小松空港',\n",
    "        'FSZ': '富士山静岡空港',\n",
    "        'NGO': '中部国際空港',\n",
    "        'KIX': '関西国際空港',\n",
    "        'HIJ': '広島空港',\n",
    "        'JPSHS': '関門港（下関）',\n",
    "        'TAK': '高松空港',\n",
    "        'FUK': '福岡空港',\n",
    "        'JPHKT': '博多港',\n",
    "        'JPIZH': '厳原港',\n",
    "        'KOJ': '鹿児島空港',\n",
    "        'OKA': '那覇空港'\n",
    "    }\n",
    "    \n",
    "    # 変換の実行\n",
    "    df['調査港（17区分）'] = df['調査港（17区分）'].map(port_mapping)\n",
    "    \n",
    "    # 変換結果の確認\n",
    "    assert df['調査港（17区分）'].isnull().sum() == 0, \"変換に失敗した値があります\"\n",
    "\n",
    "    return df"
   ]
  },
  {
   "cell_type": "code",
   "execution_count": null,
   "id": "c65350ff-d8ad-47cb-a5b4-0e609c3b64e8",
   "metadata": {},
   "outputs": [],
   "source": [
    "df_q2 = prot_mapping_data(df_q2)\n",
    "df_q3 = prot_mapping_data(df_q3)"
   ]
  },
  {
   "cell_type": "markdown",
   "id": "88f4410e-398c-4021-b73c-361c87ed38dc",
   "metadata": {},
   "source": [
    "## 日付型の変換"
   ]
  },
  {
   "cell_type": "code",
   "execution_count": null,
   "id": "ed3d7fcc-12d6-4276-9dd3-0d23fde1777e",
   "metadata": {},
   "outputs": [],
   "source": [
    "def to_date_survey(df):\n",
    "    # 調査日と入国日のカラムを日付型に変換\n",
    "    df['調査日'] = pd.to_datetime(df['調査日'], format='%m/%d/%Y')\n",
    "    df['入国日'] = pd.to_datetime(df['入国日'], format='%m/%d/%Y')\n",
    "    \n",
    "    # 変換後のデータ型を確認\n",
    "    assert pd.api.types.is_datetime64_any_dtype(df['調査日']), \"調査日のカラムが日付型に変換されていません。\"\n",
    "    assert pd.api.types.is_datetime64_any_dtype(df['入国日']), \"入国日のカラムが日付型に変換されていません。\"\n",
    "    \n",
    "    print(\"調査日と入国日のカラムは正しく日付型に変換されました。\")\n",
    "\n",
    "    return df"
   ]
  },
  {
   "cell_type": "code",
   "execution_count": null,
   "id": "b324c59c-6a75-41e7-a6ec-6043bde358c2",
   "metadata": {},
   "outputs": [],
   "source": [
    "df_q2 = to_date_survey(df_q2)\n",
    "df_q3 = to_date_survey(df_q3)"
   ]
  },
  {
   "cell_type": "markdown",
   "id": "79953ec8-7e94-41d4-874d-a23b10eba52e",
   "metadata": {
    "execution": {
     "iopub.execute_input": "2025-03-04T12:24:31.653747Z",
     "iopub.status.busy": "2025-03-04T12:24:31.652902Z",
     "iopub.status.idle": "2025-03-04T12:24:31.668092Z",
     "shell.execute_reply": "2025-03-04T12:24:31.666860Z",
     "shell.execute_reply.started": "2025-03-04T12:24:31.653695Z"
    }
   },
   "source": [
    "## 「滞在日数（7区分）」の変換"
   ]
  },
  {
   "cell_type": "code",
   "execution_count": null,
   "id": "b9edc781-d013-46cb-bf7c-f656975d3b9e",
   "metadata": {},
   "outputs": [],
   "source": [
    "def stay_dura_mapping(df):\n",
    "    # 滞在日数の変換マッピング\n",
    "    stay_duration_mapping = {\n",
    "        1: '3日間以内',\n",
    "        2: '4～6日間',\n",
    "        3: '7～13日間',\n",
    "        4: '14～20日間',\n",
    "        5: '21～27日間',\n",
    "        6: '28～90日間',\n",
    "        7: '91日間以上1年未満'\n",
    "    }\n",
    "    \n",
    "    # 変換の実行\n",
    "    df['滞在日数（7区分）'] = df['滞在日数（7区分）'].map(stay_duration_mapping)\n",
    "    \n",
    "    # 変換結果の確認\n",
    "    assert df['滞在日数（7区分）'].isnull().sum() == 0, \"変換に失敗した値があります\"\n",
    "    \n",
    "    return df"
   ]
  },
  {
   "cell_type": "code",
   "execution_count": null,
   "id": "a99e6249-6bef-48ec-999e-742b012cc87c",
   "metadata": {},
   "outputs": [],
   "source": [
    "df_q2 = stay_dura_mapping(df_q2)\n",
    "df_q3 = stay_dura_mapping(df_q3)"
   ]
  },
  {
   "cell_type": "markdown",
   "id": "0b46bfe8-0930-473a-90b8-f62f7398f95a",
   "metadata": {},
   "source": [
    "## 国籍・地域を取得"
   ]
  },
  {
   "cell_type": "code",
   "execution_count": null,
   "id": "2f15c7d6-86b6-4b08-8f07-ad51c4d89d91",
   "metadata": {},
   "outputs": [],
   "source": [
    "# 国籍・地域コードのExcelファイルを読み込み\n",
    "nationality_list = pd.read_excel(config['nationality_region_mapping'])\n",
    "\n",
    "def nationality_mapping_data(df, nationality_list):\n",
    "    # 国籍・地域コードと国名のマッピングを作成\n",
    "    country_mapping = pd.Series(nationality_list['国籍・地域'].values,\n",
    "                                index=nationality_list['国籍・地域コード']).to_dict()\n",
    "    \n",
    "    # 国籍・地域コードを国籍・地域名に変換して新しいカラムを作成\n",
    "    df['国籍・地域'] = df['国籍・地域コード'].map(country_mapping)\n",
    "    assert df['国籍・地域'].isnull().sum() == 0, \"一部の国籍・地域コードがマッピング表に存在しません\"\n",
    "    \n",
    "    df = df.drop(columns=['国籍・地域コード'], axis=1)\n",
    "    \n",
    "    return df"
   ]
  },
  {
   "cell_type": "code",
   "execution_count": null,
   "id": "d136765a-c2f9-4222-8d35-83c70a95cfd2",
   "metadata": {},
   "outputs": [],
   "source": [
    "df_q2 = nationality_mapping_data(df_q2, nationality_list)\n",
    "df_q3 = nationality_mapping_data(df_q3, nationality_list)"
   ]
  },
  {
   "cell_type": "code",
   "execution_count": null,
   "id": "24ab44ab-c6fe-45f2-bc5f-a734bc83a47e",
   "metadata": {},
   "outputs": [],
   "source": [
    "df_q2['国籍・地域'].value_counts()"
   ]
  },
  {
   "cell_type": "code",
   "execution_count": null,
   "id": "c941dbd4-2e1b-4137-bf09-824ef4e18153",
   "metadata": {},
   "outputs": [],
   "source": [
    "df_q3['国籍・地域'].value_counts()"
   ]
  },
  {
   "cell_type": "markdown",
   "id": "7eccba5d-ef44-423b-823d-adfb1da5adcb",
   "metadata": {},
   "source": [
    "## 国籍･地域（21区分）と居住国･地域（21区分）を変換"
   ]
  },
  {
   "cell_type": "code",
   "execution_count": null,
   "id": "69b6e6e0-72df-4b24-8c30-c8ba2163ce2a",
   "metadata": {},
   "outputs": [],
   "source": [
    "# 国籍・地域コードと国名のマッピング\n",
    "country_code_mapping = {\n",
    "    1: \"韓国\", 2: \"台湾\", 3: \"香港\", 4: \"中国\", 5: \"タイ\", \n",
    "    6: \"シンガポール\", 7: \"マレーシア\", 8: \"インドネシア\", 9: \"フィリピン\",\n",
    "    10: \"ベトナム\", 11: \"インド\", 12: \"英国\", 13: \"ドイツ\",\n",
    "    14: \"フランス\", 15: \"イタリア\", 16: \"スペイン\",\n",
    "    17: \"ロシア\", 18: \"米国\", 19: \"カナダ\",\n",
    "    20: \"オーストラリア\", 21: \"その他\"\n",
    "}\n",
    "\n",
    "# 国籍・地域（21区分）と　居住国･地域（21区分）を 国籍・地域名に変換する\n",
    "df_q2['国籍・地域（21区分）'] = df_q2['国籍・地域（21区分）'].map(country_code_mapping)\n",
    "df_q2['居住国･地域（21区分）'] = df_q2['居住国･地域（21区分）'].map(country_code_mapping)\n",
    "df_q3['国籍・地域（21区分）'] = df_q3['国籍・地域（21区分）'].map(country_code_mapping)\n",
    "df_q3['居住国･地域（21区分）'] = df_q3['居住国･地域（21区分）'].map(country_code_mapping)\n",
    "\n",
    "# 変換後のデータの確認\n",
    "assert df_q2['国籍・地域（21区分）'].isnull().sum() == 0, \"一部の国籍・地域がマッピング表に存在しません\"\n",
    "assert df_q2['居住国･地域（21区分）'].isnull().sum() == 0, \"一部の居住国・地域がマッピング表に存在しません\"\n",
    "assert df_q3['国籍・地域（21区分）'].isnull().sum() == 0, \"一部の国籍・地域がマッピング表に存在しません\"\n",
    "assert df_q3['居住国･地域（21区分）'].isnull().sum() == 0, \"一部の居住国・地域がマッピング表に存在しません\""
   ]
  },
  {
   "cell_type": "markdown",
   "id": "2dd0e1a9-7d49-4b06-8899-06d378d02845",
   "metadata": {},
   "source": [
    "## 居住地・地域の変換"
   ]
  },
  {
   "cell_type": "code",
   "execution_count": null,
   "id": "06893028-a0fa-44a4-842a-b631a05fa426",
   "metadata": {},
   "outputs": [],
   "source": [
    "# 国籍・地域コードのExcelファイルを読み込み\n",
    "country_list = pd.read_excel(config['country_code_mapping'])\n",
    "\n",
    "def country_mapping_data(df, country_list):\n",
    "    # 国籍・地域コードと国名のマッピングを作成\n",
    "    country_mapping = pd.Series(country_list['居住国・地域'].values,\n",
    "                                index=country_list['居住国・地域コード']).to_dict()\n",
    "    \n",
    "    # 国籍・地域コードを国籍・地域名に変換して新しいカラムを作成\n",
    "    df['居住国・地域'] = df['居住国・地域コード'].map(country_mapping)\n",
    "    assert df['居住国・地域'].isnull().sum() == 0, \"一部の居住国・地域コードがマッピング表に存在しません\"\n",
    "    \n",
    "    df = df.drop(columns=['居住国・地域コード'], axis=1)\n",
    "\n",
    "    return df"
   ]
  },
  {
   "cell_type": "code",
   "execution_count": null,
   "id": "640a374c-8564-4a10-9f8a-6524fbed448a",
   "metadata": {},
   "outputs": [],
   "source": [
    "df_q2 = country_mapping_data(df_q2, country_list)\n",
    "df_q3 = country_mapping_data(df_q3, country_list)"
   ]
  },
  {
   "cell_type": "markdown",
   "id": "481b0504-f63c-465f-9168-1eae747cc3a0",
   "metadata": {},
   "source": [
    "## 中国居住地（15区分）の変換"
   ]
  },
  {
   "cell_type": "code",
   "execution_count": null,
   "id": "9ca4a180-7e0e-4c10-8a9e-b70304502a4e",
   "metadata": {},
   "outputs": [],
   "source": [
    "# 中国居住地のマッピング\n",
    "china_residence_mapping = {\n",
    "    1: \"北京市\",\n",
    "    2: \"上海市\",\n",
    "    3: \"重慶市\",\n",
    "    4: \"天津市\",\n",
    "    5: \"広東省\",\n",
    "    6: \"山東省\",\n",
    "    7: \"遼寧省\",\n",
    "    8: \"浙江省\",\n",
    "    9: \"江蘇省\",\n",
    "    10: \"四川省\",\n",
    "    11: \"マカオ\",\n",
    "    12: \"湖北省\",\n",
    "    13: \"福建省\",\n",
    "    14: \"陝西省\",\n",
    "    15: \"その他\",\n",
    "    -98: \"不明\",\n",
    "    -99: \"非該当\"\n",
    "}\n",
    "\n",
    "# DataFrameのカラム名 '中国居住地（15区分）' を使用して居住地を変換する\n",
    "df_q2['中国居住地（15区分）'] = df_q2['中国居住地（15区分）'].map(china_residence_mapping)\n",
    "df_q3['中国居住地（15区分）'] = df_q3['中国居住地（15区分）'].map(china_residence_mapping)\n",
    "\n",
    "# 変換後のデータの確認\n",
    "assert df_q2['中国居住地（15区分）'].isnull().sum() == 0, \"一部の中国居住地コードがマッピング表に存在しません\"\n",
    "assert df_q3['中国居住地（15区分）'].isnull().sum() == 0, \"一部の中国居住地コードがマッピング表に存在しません\""
   ]
  },
  {
   "cell_type": "markdown",
   "id": "bc942878-3c2b-4ab2-bdd0-41ac3a88dfa9",
   "metadata": {},
   "source": [
    "## 主な来訪目的（16区分）の変換"
   ]
  },
  {
   "cell_type": "code",
   "execution_count": null,
   "id": "0b133c35-8a73-4996-af94-525c6d672ebc",
   "metadata": {},
   "outputs": [],
   "source": [
    "def visit_mapping_data(df):\n",
    "    # 主な来訪目的のマッピング\n",
    "    visit_purpose_mapping = {\n",
    "        1: \"観光・レジャー\",\n",
    "        2: \"親族・知人訪問\",\n",
    "        3: \"ハネムーン\",\n",
    "        4: \"学校関連の旅行\",\n",
    "        5: \"スポーツ・スポーツ観戦\",\n",
    "        6: \"イベント\",\n",
    "        7: \"留学\",\n",
    "        8: \"治療・検診\",\n",
    "        9: \"インセンティブツアー\",\n",
    "        10: \"展示会・見本市\",\n",
    "        11: \"国際会議\",\n",
    "        12: \"企業ミーティング\",\n",
    "        13: \"研修\",\n",
    "        14: \"その他ビジネス\",\n",
    "        15: \"トランジット\",\n",
    "        16: \"その他\"\n",
    "    }\n",
    "    \n",
    "    # DataFrameのカラム名 '主な来訪目的（16区分）' を使用して目的を変換する\n",
    "    df['主な来訪目的（16区分）'] = df['主な来訪目的（16区分）'].map(visit_purpose_mapping)\n",
    "    \n",
    "    # 変換後のデータの確認\n",
    "    assert df['主な来訪目的（16区分）'].isnull().sum() == 0, \"一部の来訪目的コードがマッピング表に存在しません\"\n",
    "\n",
    "    return df"
   ]
  },
  {
   "cell_type": "code",
   "execution_count": null,
   "id": "7c9ca408-b807-4025-bb0a-6da250a1a40d",
   "metadata": {},
   "outputs": [],
   "source": [
    "df_q2 = visit_mapping_data(df_q2)\n",
    "df_q3 = visit_mapping_data(df_q3)"
   ]
  },
  {
   "cell_type": "code",
   "execution_count": null,
   "id": "56b2ab46-2b69-4b81-8755-8c0276e03356",
   "metadata": {},
   "outputs": [],
   "source": [
    "df_q2['主な来訪目的（16区分）'].value_counts()"
   ]
  },
  {
   "cell_type": "code",
   "execution_count": null,
   "id": "389809e5-14eb-455d-a618-6bedc37e82a2",
   "metadata": {},
   "outputs": [],
   "source": [
    "df_q3['主な来訪目的（16区分）'].value_counts()"
   ]
  },
  {
   "cell_type": "code",
   "execution_count": null,
   "id": "c1d12fdd-637a-43da-b1c5-728592b8dcda",
   "metadata": {},
   "outputs": [],
   "source": [
    "df = pd.concat([df_q2, df_q3],\n",
    "               axis=0,\n",
    "               ignore_index=True)\n",
    "df.shape"
   ]
  },
  {
   "cell_type": "markdown",
   "id": "056a8f22-20bd-4243-8385-86db18cd7387",
   "metadata": {},
   "source": [
    "## 主キーの設定"
   ]
  },
  {
   "cell_type": "code",
   "execution_count": null,
   "id": "2319056b-af75-4895-9c8d-86fd9fc818c7",
   "metadata": {},
   "outputs": [],
   "source": [
    "def create_primary_key(df):\n",
    "    df['userid'] = [f\"{i:03d}\" for i in range(1, len(df) + 1)]\n",
    "    assert df['userid'].nunique() == len(df), \"主キーが正しく設定されていません。\"\n",
    "\n",
    "    return df"
   ]
  },
  {
   "cell_type": "code",
   "execution_count": null,
   "id": "017b0d7f-667d-4541-97dc-80c5b280cdf1",
   "metadata": {},
   "outputs": [],
   "source": [
    "df = create_primary_key(df)\n",
    "print(df.shape)\n",
    "df['userid'].nunique()"
   ]
  },
  {
   "cell_type": "markdown",
   "id": "673621cc-5250-4321-b2e2-31e5bc389d32",
   "metadata": {},
   "source": [
    "## 都道府県コードと訪問地コードから名称を取得（既存の訪問名は削除）"
   ]
  },
  {
   "cell_type": "code",
   "execution_count": null,
   "id": "4311fe43-0cef-48b0-b1c8-e48d70ff8db7",
   "metadata": {},
   "outputs": [],
   "source": [
    "# 訪問地リスト\n",
    "prefecture_df = pd.read_excel(config['prefectures_visited_list'])\n",
    "\n",
    "\n",
    "def get_location_name_by_codes(df, prefecture_df):\n",
    "    \n",
    "    # 都道府県コードから都道府県名称を取得\n",
    "    prefecture_mapping = pd.Series(prefecture_df['都道府県名称'].values,\n",
    "                                   index=prefecture_df['都道府県コード']).to_dict()\n",
    "    \n",
    "    # 訪問地コードから訪問地名称を取得\n",
    "    visit_location_mapping = pd.Series(prefecture_df['訪問地名称'].values,\n",
    "                                       index=prefecture_df['訪問地コード']).to_dict()\n",
    "    \n",
    "    for i in range(1, 14):\n",
    "        df[f'都道府県名称_{i}'] = df[f'都道府県コード_{i}'].map(prefecture_mapping)\n",
    "        df[f'訪問地名称_{i}'] = df[f'訪問地コード_{i}'].map(visit_location_mapping)\n",
    "    \n",
    "    \n",
    "    if df[f'都道府県コード_{i}'].notnull().any():\n",
    "        assert df[f'都道府県名称_{i}'].dropna().isin(prefecture_mapping.values()).all(), f\"都道府県名称_{i}に不正な値が含まれています\"\n",
    "    if df[f'訪問地コード_{i}'].notnull().any():\n",
    "        assert df[f'訪問地名称_{i}'].dropna().isin(visit_location_mapping.values()).all(), f\"訪問地名称_{i}に不正な値が含まれています\"\n",
    "\n",
    "    return df"
   ]
  },
  {
   "cell_type": "code",
   "execution_count": null,
   "id": "ba857899-340b-471a-8258-6f218bb79014",
   "metadata": {},
   "outputs": [],
   "source": [
    "df = get_location_name_by_codes(df, prefecture_df)"
   ]
  },
  {
   "cell_type": "code",
   "execution_count": null,
   "id": "4bb1bf1a-4ca6-4925-9a25-1363af59dedb",
   "metadata": {},
   "outputs": [],
   "source": [
    "df.isna().sum()[df.isna().sum() > 0]"
   ]
  },
  {
   "cell_type": "code",
   "execution_count": null,
   "id": "4b5f954c-4b77-45a9-89e4-fb98da16dfad",
   "metadata": {},
   "outputs": [],
   "source": [
    "df.shape"
   ]
  },
  {
   "cell_type": "code",
   "execution_count": null,
   "id": "f461f3db-7216-4bff-8020-c99e3b268f91",
   "metadata": {},
   "outputs": [],
   "source": [
    "# 訪問地名のカラムを削除する\n",
    "for i in range(1, 14):  # 1から13までのカラムを削除\n",
    "    visit_name_col = f'訪問地名_{i}'\n",
    "    if visit_name_col in df.columns:\n",
    "        df = df.drop(columns=[visit_name_col])\n",
    "\n",
    "# 削除後のカラム存在確認\n",
    "for i in range(1, 14):\n",
    "    assert f'訪問地名_{i}' not in df.columns, f\"カラム {i} が正しく削除されていません。\""
   ]
  },
  {
   "cell_type": "markdown",
   "id": "a5e37e99-fd04-448c-8111-ded45f4f82c6",
   "metadata": {},
   "source": [
    "## データを出力"
   ]
  },
  {
   "cell_type": "code",
   "execution_count": null,
   "id": "e297b948-74de-4d16-8ade-cacb767de214",
   "metadata": {},
   "outputs": [],
   "source": [
    "df.columns.to_list()"
   ]
  },
  {
   "cell_type": "code",
   "execution_count": null,
   "id": "4ad5ec72-4f1a-468e-9315-18c1c615f39f",
   "metadata": {},
   "outputs": [],
   "source": [
    "cols = ['userid', '調査種別', '調査港（17区分）', '調査日', '入国日', '滞在日数（日）',\n",
    "        '滞在日数（7区分）', '泊数（泊）', '入国空港・海港（2区分）',\n",
    "        '入国空港・海港コード', '在留資格（6区分）', '数次有効ビザの発給FLG',\n",
    "        '再入国許可FLG', '国籍・地域（21区分）', '国籍・地域', \n",
    "        '居住国・地域（2区分）', '居住国･地域（21区分）', '居住国・地域',\n",
    "        '中国居住地（15区分）', '中国居住地その他【自由回答】',\n",
    "        '性別（2区分）', '年齢区分（12区分）', '性年代（16区分）',\n",
    "        '同行者（6区分）', '日本への来訪回数（8区分）', '前回来訪時期（6区分）',\n",
    "        '年間来訪回数（前回まで）', '主な来訪目的（16区分）', '訪問地名_入国',\n",
    "        '訪問地コード_入国', '都道府県コード_入国',\n",
    "        '訪問地コード_1', '都道府県コード_1', '都道府県名称_1', '訪問地名称_1',\n",
    "        '訪問地コード_2', '都道府県コード_2', '都道府県名称_2', '訪問地名称_2',\n",
    "        '訪問地コード_3', '都道府県コード_3', '都道府県名称_3', '訪問地名称_3',\n",
    "        '訪問地コード_4', '都道府県コード_4', '都道府県名称_4', '訪問地名称_4', \n",
    "        '訪問地コード_5', '都道府県コード_5', '都道府県名称_5', '訪問地名称_5',\n",
    "        '訪問地コード_6', '都道府県コード_6', '都道府県名称_6', '訪問地名称_6',\n",
    "        '訪問地コード_7', '都道府県コード_7', '都道府県名称_7', '訪問地名称_7',\n",
    "        '訪問地コード_8','都道府県コード_8', '都道府県名称_8', '訪問地名称_8',\n",
    "        '訪問地コード_9', '都道府県コード_9', '都道府県名称_9', '訪問地名称_9',\n",
    "        '訪問地コード_10', '都道府県コード_10', '都道府県名称_10', '訪問地名称_10',\n",
    "        '訪問地コード_11', '都道府県コード_11', '都道府県名称_11', '訪問地名称_11',\n",
    "        '訪問地コード_12', '都道府県コード_12', '都道府県名称_12', '訪問地名称_12',\n",
    "        '訪問地コード_13', '都道府県コード_13', '都道府県名称_13', '訪問地名称_13',\n",
    "        '訪問地名_出国', '訪問地コード_出国', '都道府県コード_出国',\n",
    "        '利用宿泊施設_入国', '利用宿泊施設_1', '利用宿泊施設_2', '利用宿泊施設_3',\n",
    "        '利用宿泊施設_4', '利用宿泊施設_5', '利用宿泊施設_6',\n",
    "        '利用宿泊施設_7', '利用宿泊施設_8', '利用宿泊施設_9', '利用宿泊施設_10',\n",
    "        '利用宿泊施設_11', '利用宿泊施設_12', '利用宿泊施設_13']"
   ]
  },
  {
   "cell_type": "code",
   "execution_count": null,
   "id": "96ff4187-a2f7-4169-b73f-4a96f51a3dfc",
   "metadata": {},
   "outputs": [],
   "source": [
    "df[cols].to_excel(survey_2024_Q2andQ3_processed, index=False)"
   ]
  },
  {
   "cell_type": "code",
   "execution_count": null,
   "id": "5732fe54-7db5-4830-aee6-2b4aa5160bd5",
   "metadata": {},
   "outputs": [],
   "source": [
    "df[cols].shape"
   ]
  },
  {
   "cell_type": "code",
   "execution_count": null,
   "id": "510119a4-f381-46d5-a626-67de0813b4d3",
   "metadata": {},
   "outputs": [],
   "source": [
    "df[cols].head()"
   ]
  },
  {
   "cell_type": "code",
   "execution_count": null,
   "id": "e4968687-4cf4-415e-b612-ed1652f2d908",
   "metadata": {},
   "outputs": [],
   "source": []
  }
 ],
 "metadata": {
  "kernelspec": {
   "display_name": "Python 3 (ipykernel)",
   "language": "python",
   "name": "python3"
  },
  "language_info": {
   "codemirror_mode": {
    "name": "ipython",
    "version": 3
   },
   "file_extension": ".py",
   "mimetype": "text/x-python",
   "name": "python",
   "nbconvert_exporter": "python",
   "pygments_lexer": "ipython3",
   "version": "3.12.0"
  }
 },
 "nbformat": 4,
 "nbformat_minor": 5
}
