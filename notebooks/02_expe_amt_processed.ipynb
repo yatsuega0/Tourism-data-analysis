{
 "cells": [
  {
   "cell_type": "code",
   "execution_count": null,
   "id": "e1452c56-ffa5-4748-be66-d9243bc12051",
   "metadata": {},
   "outputs": [],
   "source": [
    "import numpy as np\n",
    "import pandas as pd"
   ]
  },
  {
   "cell_type": "code",
   "execution_count": null,
   "id": "c9504ddb-215b-4bfa-bb45-bdcd2b883c79",
   "metadata": {},
   "outputs": [],
   "source": [
    "import yaml\n",
    "with open('../setting/path.yaml', 'r') as file:\n",
    "    config = yaml.safe_load(file)\n",
    "\n",
    "# パスの設定\n",
    "survey_path_2024_q2 = config['survey_data_path_2024_q2']\n",
    "survey_path_2024_q3 = config['survey_data_path_2024_q3']\n",
    "pay_amount_list_path = config['pay_amount_list']\n",
    "# 出力\n",
    "survey_2024_Q2andQ3_expenditure_amount = config['expenditure_amount_processed']"
   ]
  },
  {
   "cell_type": "markdown",
   "id": "9f9153e0-957b-4dbb-8949-663bedb0dabc",
   "metadata": {},
   "source": [
    "## 個票データの読み込み"
   ]
  },
  {
   "cell_type": "code",
   "execution_count": null,
   "id": "167b9526-e1bb-4a48-8722-ad816fe9f53c",
   "metadata": {},
   "outputs": [],
   "source": [
    "columns_to_read = ['F_a', 'F_b', 'F_c', 'F_c1', 'F_c2', 'F_c3',\n",
    "                   'F_c4', 'F_c5', 'F_c6', 'F_c7', 'F_c8', \n",
    "                   'F_d', 'F_d1', 'F_d2', 'F_d3', 'F_d4',\n",
    "                   'F_d5', 'F_d6', 'F_d7', 'F_d8', 'F_d9',\n",
    "                   'F_d10', 'F_d11', 'F_d12', 'F_e', 'F_e1',\n",
    "                   'F_e2', 'F_e3', 'F_e4', 'F_e5', 'F_e6',\n",
    "                   'F_e7', 'F_e8', 'F_e9', 'F_e10', 'F_e11',\n",
    "                   'F_e12', 'F_e13', 'F_e14', 'F_e15', 'F_e16',\n",
    "                   'F_f', 'F_g']\n",
    "\n",
    "df_q2 = pd.read_csv(survey_path_2024_q2,\n",
    "                    usecols=columns_to_read)\n",
    "print(df_q2.shape)\n",
    "\n",
    "df_q3 = pd.read_csv(survey_path_2024_q3,\n",
    "                    usecols=columns_to_read)\n",
    "print(df_q3.shape)"
   ]
  },
  {
   "cell_type": "code",
   "execution_count": null,
   "id": "f62affb3-6270-4f0b-81c0-3ef71ada111e",
   "metadata": {},
   "outputs": [],
   "source": [
    "df_q2.head()"
   ]
  },
  {
   "cell_type": "code",
   "execution_count": null,
   "id": "66d4ae81-5176-4223-a88b-9cdeca36bf6e",
   "metadata": {},
   "outputs": [],
   "source": [
    "assert df_q2.columns.equals(df_q3.columns), '2つの変数名が一致していません。'"
   ]
  },
  {
   "cell_type": "markdown",
   "id": "9febabb0-da9d-44a3-ac6e-0d89f3442da1",
   "metadata": {},
   "source": [
    "## カラム名の変更"
   ]
  },
  {
   "cell_type": "code",
   "execution_count": null,
   "id": "c65b43ab-7c7e-4ad0-8de9-ba2b9ad35767",
   "metadata": {},
   "outputs": [],
   "source": [
    "pay_amount_list = pd.read_excel(pay_amount_list_path)\n",
    "pay_amount_list.shape"
   ]
  },
  {
   "cell_type": "code",
   "execution_count": null,
   "id": "714aadd0-1bea-4fed-8e75-0eeebba36092",
   "metadata": {},
   "outputs": [],
   "source": [
    "pay_amount_list.head()"
   ]
  },
  {
   "cell_type": "code",
   "execution_count": null,
   "id": "bf3eef81-d204-4768-966c-b2175716ab39",
   "metadata": {},
   "outputs": [],
   "source": [
    "def rename_columns(df, column_list):\n",
    "    # カラム名の変更\n",
    "    column_mapping = dict(zip(column_list['変数名'], column_list['ラベル名']))\n",
    "    # データフレームのカラム名を更新\n",
    "    df = df.rename(columns=column_mapping)\n",
    "    assert set(column_list['ラベル名']) == set(df.columns), \"カラム名が正しく変更されていません\"\n",
    "    \n",
    "    return df"
   ]
  },
  {
   "cell_type": "code",
   "execution_count": null,
   "id": "a7736a6d-16f6-40a8-8b77-bfae3839d190",
   "metadata": {},
   "outputs": [],
   "source": [
    "df_q2 = rename_columns(df_q2, pay_amount_list)\n",
    "df_q3 = rename_columns(df_q3, pay_amount_list)"
   ]
  },
  {
   "cell_type": "markdown",
   "id": "9752e43e-3c79-42a6-87e1-1eb706728728",
   "metadata": {},
   "source": [
    "## 主キーの設定"
   ]
  },
  {
   "cell_type": "code",
   "execution_count": null,
   "id": "a963e296-5142-49f9-8b3a-c48449d1d9d6",
   "metadata": {},
   "outputs": [],
   "source": [
    "df = pd.concat([df_q2, df_q3],\n",
    "               axis=0,\n",
    "               ignore_index=True)\n",
    "df.shape"
   ]
  },
  {
   "cell_type": "code",
   "execution_count": null,
   "id": "ae096cea-68b4-4e2c-8970-5effa6c3e88c",
   "metadata": {},
   "outputs": [],
   "source": [
    "def create_primary_key(df):\n",
    "    df['userid'] = [f\"{i:03d}\" for i in range(1, len(df) + 1)]\n",
    "    assert df['userid'].nunique() == len(df), \"主キーが正しく設定されていません。\"\n",
    "\n",
    "    return df"
   ]
  },
  {
   "cell_type": "code",
   "execution_count": null,
   "id": "339c1f75-8f65-4b3a-a07e-e1de3cd5c0ec",
   "metadata": {},
   "outputs": [],
   "source": [
    "df = create_primary_key(df)\n",
    "print(df.shape)\n",
    "df['userid'].nunique()"
   ]
  },
  {
   "cell_type": "code",
   "execution_count": null,
   "id": "251dcd79-03c6-4c72-8582-535bf84c2ff0",
   "metadata": {},
   "outputs": [],
   "source": [
    "df.columns"
   ]
  },
  {
   "cell_type": "markdown",
   "id": "7f15d1c4-617e-4bd7-ba59-23d1d9f02393",
   "metadata": {},
   "source": [
    "## 支出金額の加工"
   ]
  },
  {
   "cell_type": "code",
   "execution_count": null,
   "id": "2fe15531-6a5b-4811-a09b-dbb67214a237",
   "metadata": {},
   "outputs": [],
   "source": [
    "df.isna().sum()"
   ]
  },
  {
   "cell_type": "code",
   "execution_count": null,
   "id": "eecaba82-e025-47f2-8ebc-ded69bee5d4f",
   "metadata": {},
   "outputs": [],
   "source": [
    "df.dtypes"
   ]
  },
  {
   "cell_type": "code",
   "execution_count": null,
   "id": "265704a1-3773-4f28-9e42-63171caaee4a",
   "metadata": {},
   "outputs": [],
   "source": [
    "# 'userid'以外のカラムをリストとして取得\n",
    "expenditure_columns = [col for col in df.columns if col != 'userid']\n",
    "\n",
    "# 欠損値(NaN)と-99 → 0\n",
    "df[expenditure_columns] = df[expenditure_columns].replace(-99, 0)\n",
    "\n",
    "# カラムのデータ型をfloatからintに変更\n",
    "df[expenditure_columns] = df[expenditure_columns].astype(int)\n",
    "\n",
    "assert not (df[expenditure_columns] == -99).any().any(), \"Error: -99 still exists in the dataframe.\""
   ]
  },
  {
   "cell_type": "code",
   "execution_count": null,
   "id": "145a2a1e-0ba3-400a-b334-580a1bcfa970",
   "metadata": {},
   "outputs": [],
   "source": [
    "df.dtypes"
   ]
  },
  {
   "cell_type": "code",
   "execution_count": null,
   "id": "d02dbe2c-25cf-4fea-88da-fca85bc8b9ac",
   "metadata": {},
   "outputs": [],
   "source": [
    "columns_order = ['userid'] + expenditure_columns\n",
    "df = df[columns_order]\n",
    "assert df.columns[0] == 'userid', \"Error: 'userid' is not the first column.\""
   ]
  },
  {
   "cell_type": "markdown",
   "id": "c0b471d9-c1bd-443a-8c11-dddc6371d5c9",
   "metadata": {},
   "source": [
    "# データを出力"
   ]
  },
  {
   "cell_type": "code",
   "execution_count": null,
   "id": "5cabc249-6dc8-4064-8e18-41d13321c6a7",
   "metadata": {},
   "outputs": [],
   "source": [
    "df.to_excel(survey_2024_Q2andQ3_expenditure_amount,\n",
    "            index=False)"
   ]
  },
  {
   "cell_type": "code",
   "execution_count": null,
   "id": "88874cae-23ec-4a4d-935c-328b942e0d38",
   "metadata": {},
   "outputs": [],
   "source": []
  }
 ],
 "metadata": {
  "kernelspec": {
   "display_name": "Python 3 (ipykernel)",
   "language": "python",
   "name": "python3"
  },
  "language_info": {
   "codemirror_mode": {
    "name": "ipython",
    "version": 3
   },
   "file_extension": ".py",
   "mimetype": "text/x-python",
   "name": "python",
   "nbconvert_exporter": "python",
   "pygments_lexer": "ipython3",
   "version": "3.12.0"
  }
 },
 "nbformat": 4,
 "nbformat_minor": 5
}
